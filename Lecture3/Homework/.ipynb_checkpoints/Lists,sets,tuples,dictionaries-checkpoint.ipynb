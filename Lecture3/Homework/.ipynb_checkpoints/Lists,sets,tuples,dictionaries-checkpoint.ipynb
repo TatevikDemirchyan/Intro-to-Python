{
 "cells": [
  {
   "cell_type": "markdown",
   "metadata": {},
   "source": [
    "# Lists"
   ]
  },
  {
   "cell_type": "code",
   "execution_count": 1,
   "metadata": {},
   "outputs": [
    {
     "name": "stdout",
     "output_type": "stream",
     "text": [
      "2nd and 5th elements: 4 8\n",
      "a_sorted:  [8, 7, 5, 4, 1, 0, -1, -2]\n",
      "\n",
      " sublist1: [8, 7, 5] \n",
      " sublist2: [7, 5, 4, 1, 0]\n",
      "after pop: [8, 7, 1, 0, -1, -2]\n",
      "b_sorted: ['Broccoli', 'Carrot', 'Lemon', 'Orange', 'Potatoes', 'Sausages', 'grapes', 'tomatoes']\n",
      "c: [1, 4, 5, 'Orange', 'Lemon', 'Broccoli']\n"
     ]
    }
   ],
   "source": [
    "a=[1, 4, 5, 7, 8, -2, 0, -1]\n",
    "print(\"2nd and 5th elements:\",a[1],a[4])\n",
    "a_sorted=sorted(a)\n",
    "a_sorted.sort(reverse=True)\n",
    "print(\"a_sorted: \",a_sorted)\n",
    "print(\"\\n\",\"sublist1:\", a_sorted[0:3],\"\\n\",\"sublist2:\",a_sorted[1:6])\n",
    "a_sorted.pop(3)\n",
    "a_sorted.pop(2)\n",
    "print(\"after pop:\", a_sorted)\n",
    "b=[\"grapes\", \"Potatoes\",\"tomatoes\", \"Orange\", \"Lemon\", \"Broccoli\", \"Carrot\", \"Sausages\"]\n",
    "b_sorted=sorted(b)\n",
    "print(\"b_sorted:\",b_sorted)\n",
    "c=a[0:3]+b[3:6]\n",
    "print(\"c:\",c)"
   ]
  },
  {
   "cell_type": "markdown",
   "metadata": {},
   "source": [
    "# Sets"
   ]
  },
  {
   "cell_type": "code",
   "execution_count": 2,
   "metadata": {},
   "outputs": [
    {
     "name": "stdout",
     "output_type": "stream",
     "text": [
      "union_ab: {False, True, 'Oreo', 'Kit-Kat', 8, 10, 14, 'Milk', 'Jelly', 'Cookies', 'Chocolate', -5, -3}\n",
      "Chocolate in new_set: True\n",
      "new_set ofter removing Oreo: {False, True, 'Kit-Kat', 8, 10, 14, 'Milk', 'Jelly', 'Cookies', 'Chocolate', -5, -3}\n"
     ]
    }
   ],
   "source": [
    "a1=[\"Cookies\", \"Chocolate\",8, True, -3, -5, \"Chocolate\", 8, False, 8]\n",
    "b1=[8, True, 10, 14,\"Chocolate\", \"Milk\", \"Jelly\", True, False, True]\n",
    "set_a=set(a1)\n",
    "set_b=set(b1)\n",
    "union_ab=set_a.union(set_b)\n",
    "intersection_ab=set_a.intersection(set_b)\n",
    "union_ab.update({\"Kit-Kat\",\"Oreo\"})\n",
    "print(\"union_ab:\",union_ab)\n",
    "new_set=union_ab or intersection_ab\n",
    "print(\"Chocolate in new_set:\", \"Chocolate\" in new_set)\n",
    "new_set.remove(\"Oreo\")\n",
    "print(\"new_set ofter removing Oreo:\",new_set)"
   ]
  },
  {
   "cell_type": "markdown",
   "metadata": {},
   "source": [
    "# Tuples"
   ]
  },
  {
   "cell_type": "code",
   "execution_count": 12,
   "metadata": {},
   "outputs": [
    {
     "name": "stdout",
     "output_type": "stream",
     "text": [
      "t1 after removing True: (1, 'a', -2, 'Anna')\n",
      "index 2 in t3: 1\n",
      "2nd element of 1st element: 3\n"
     ]
    }
   ],
   "source": [
    "t1=(1, True, \"a\", -2,\"Anna\")\n",
    "t2=[x for x in list(t1) if type(x)!=bool or x==False]\n",
    "t1=tuple(t2)\n",
    "print(\"t1 after removing True:\", t1)\n",
    "t2=(1, 2, 3, 4, 5)\n",
    "t3=t1[:2]+t2[:3]\n",
    "print(\"index 2 in t3:\",t3[2])\n",
    "t4=[(1,3,5), (8,9), (\"Anna\", \"Bob\",\"Alice\")]\n",
    "print(\"2nd element of 1st element:\", t4[0][1])"
   ]
  },
  {
   "cell_type": "markdown",
   "metadata": {},
   "source": [
    "# Dictionaries"
   ]
  },
  {
   "cell_type": "code",
   "execution_count": 4,
   "metadata": {},
   "outputs": [
    {
     "name": "stdout",
     "output_type": "stream",
     "text": [
      "market: {'dairy': ['yogurt', 'cheese'], 'fruits': ['banana', 'apple', 'orange', 'lemon', 'apple', 'banana', 'banana']}\n",
      "new market: {'dairy': ['yogurt', 'cheese'], 'fruits': ['apple', 'banana', 'lemon', 'orange'], 'candies': ['mars', 'kinder', 'twix']}\n"
     ]
    }
   ],
   "source": [
    "market={\"dairy\":[\"yogurt\", \"cheese\"], \"fruits\": [\"banana\", \"apple\", \"orange\", \"lemon\", \"apple\", \"banana\",\"banana\"]}\n",
    "print(\"market:\",market)\n",
    "market[\"candies\"]=[\"mars\",\"kinder\",\"twix\"]\n",
    "market[\"fruits\"]=set(market[\"fruits\"])\n",
    "market[\"fruits\"]=list(market[\"fruits\"])\n",
    "market[\"fruits\"].sort()\n",
    "print(\"new market:\",market)"
   ]
  }
 ],
 "metadata": {
  "kernelspec": {
   "display_name": "Python 3",
   "language": "python",
   "name": "python3"
  },
  "language_info": {
   "codemirror_mode": {
    "name": "ipython",
    "version": 3
   },
   "file_extension": ".py",
   "mimetype": "text/x-python",
   "name": "python",
   "nbconvert_exporter": "python",
   "pygments_lexer": "ipython3",
   "version": "3.7.3"
  }
 },
 "nbformat": 4,
 "nbformat_minor": 2
}
