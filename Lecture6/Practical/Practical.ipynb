{
 "cells": [
  {
   "cell_type": "markdown",
   "metadata": {},
   "source": [
    "# Classes"
   ]
  },
  {
   "cell_type": "code",
   "execution_count": 2,
   "metadata": {},
   "outputs": [
    {
     "name": "stdout",
     "output_type": "stream",
     "text": [
      "A green circle with radius 50\n"
     ]
    }
   ],
   "source": [
    "#Problem1\n",
    "class Circle:\n",
    "    def __init__(self, radius, color):\n",
    "        self.radius=radius\n",
    "        self.color=color\n",
    "    \n",
    "    def getDesc(self):\n",
    "        print(\"A\",self.color,\"circle with radius\",self.radius)\n",
    "\n",
    "circle_1=Circle(50, \"green\")\n",
    "circle_2=Circle(10, \"yellow\")\n",
    "\n",
    "circle_1.getDesc()"
   ]
  },
  {
   "cell_type": "code",
   "execution_count": 3,
   "metadata": {},
   "outputs": [
    {
     "name": "stdout",
     "output_type": "stream",
     "text": [
      "Enter String Good\n",
      "GOOD\n"
     ]
    }
   ],
   "source": [
    "#Problem2\n",
    "class Upper_string:\n",
    "    \n",
    "    def get_String(self):\n",
    "        self.string=input(\"Enter String \")\n",
    "        \n",
    "    def print_String(self):\n",
    "        print(self.string.upper())\n",
    "\n",
    "string_1=Upper_string()\n",
    "string_1.get_String()\n",
    "string_1.print_String()"
   ]
  },
  {
   "cell_type": "code",
   "execution_count": 4,
   "metadata": {},
   "outputs": [
    {
     "name": "stdout",
     "output_type": "stream",
     "text": [
      "Ani Avetisyan\n",
      "High\n"
     ]
    }
   ],
   "source": [
    "#Problem3\n",
    "class Employee:\n",
    "    def __init__(self, name, last_name,monthly_salary):\n",
    "        self.name=name\n",
    "        self.last_name=last_name\n",
    "        self.__monthly_salary=monthly_salary\n",
    "    \n",
    "    def getFullName(self):\n",
    "        print(self.name+\" \"+self.last_name)\n",
    "    \n",
    "    def annualSalary(self):\n",
    "        annualsalary=12*self.__monthly_salary\n",
    "        if annualsalary>100:\n",
    "            print(\"High\")\n",
    "        else:\n",
    "            print(\"Low\")\n",
    "\n",
    "em_1=Employee(\"Ani\", \"Avetisyan\", 40)\n",
    "em_1.getFullName()\n",
    "em_1.annualSalary()"
   ]
  },
  {
   "cell_type": "code",
   "execution_count": 5,
   "metadata": {},
   "outputs": [
    {
     "name": "stdout",
     "output_type": "stream",
     "text": [
      "car1 is better than car2\n"
     ]
    }
   ],
   "source": [
    "#Problem4\n",
    "class Car:\n",
    "    def __init__(self, model, color, max_speed):\n",
    "        self.model=model\n",
    "        self.color=color\n",
    "        self.max_speed=max_speed\n",
    "        \n",
    "    def compareCar(self, car2):\n",
    "        if self.max_speed>car2.max_speed:\n",
    "            print(\"car1 is better than car2\")\n",
    "        else:\n",
    "            print(\"car2 is better than car1\")\n",
    "\n",
    "car_1=Car(\"BMW\", \"red\", 500)\n",
    "car_2=Car(\"KIA\", \"black\", 100)\n",
    "car_1.compareCar(car_2)"
   ]
  },
  {
   "cell_type": "code",
   "execution_count": 6,
   "metadata": {},
   "outputs": [
    {
     "name": "stdout",
     "output_type": "stream",
     "text": [
      "40000.0\n",
      "Welcome to your car, Ani\n",
      "Welcome to your car, Anahit\n"
     ]
    }
   ],
   "source": [
    "#Problem5\n",
    "class Police_car:\n",
    "    \n",
    "    tax_value=0.2\n",
    "    \n",
    "    def __init__(self, owner, price, pass_code):\n",
    "        self.owner=owner\n",
    "        self.price=price\n",
    "        self.__pass_code=pass_code\n",
    "        \n",
    "    def tax(self):\n",
    "        print(self.tax_value*self.price)\n",
    "    \n",
    "    def set_code(self, new_code):\n",
    "        self.__pass_code=new_code\n",
    "    \n",
    "    def get_code(self):\n",
    "        return self.__pass_code\n",
    "    \n",
    "    def greating(self):\n",
    "        if self.__pass_code==\"admin\":\n",
    "            print(\"Welcome to your car,\", self.owner)\n",
    "\n",
    "car_1=Police_car(\"Anahit\", 200000, \"user\")\n",
    "car_2=Police_car(\"Ani\", 5000, \"admin\")\n",
    "car_1.tax()\n",
    "car_2.greating()\n",
    "car_1.set_code(\"admin\")\n",
    "car_1.greating()"
   ]
  },
  {
   "cell_type": "markdown",
   "metadata": {},
   "source": [
    "# Assertions "
   ]
  },
  {
   "cell_type": "code",
   "execution_count": 7,
   "metadata": {},
   "outputs": [],
   "source": [
    "#Problem1\n",
    "def Alarm(day):\n",
    "    assert day !=\"Sunday\",\"I won’t wake you up today!\"\n",
    "    pass\n",
    "\n",
    "Alarm(\"Monday\")"
   ]
  },
  {
   "cell_type": "code",
   "execution_count": 8,
   "metadata": {},
   "outputs": [
    {
     "name": "stdout",
     "output_type": "stream",
     "text": [
      "9\n"
     ]
    }
   ],
   "source": [
    "#Problem2\n",
    "def sum(x,y):\n",
    "    assert type(x)==int and type(y)==int, \"Arguments of type int required\"\n",
    "    print(x+y)\n",
    "\n",
    "sum(4,5)"
   ]
  },
  {
   "cell_type": "markdown",
   "metadata": {},
   "source": [
    "# Exceptions"
   ]
  },
  {
   "cell_type": "code",
   "execution_count": 9,
   "metadata": {},
   "outputs": [
    {
     "name": "stdout",
     "output_type": "stream",
     "text": [
      "2.0\n",
      "Error\n"
     ]
    }
   ],
   "source": [
    "#Problem1\n",
    "def div(x,y):\n",
    "    try:\n",
    "        print(x/y)\n",
    "    except Exception:\n",
    "        print(\"Error\")\n",
    "\n",
    "div(10,5)   \n",
    "div(9,0)"
   ]
  },
  {
   "cell_type": "code",
   "execution_count": 10,
   "metadata": {},
   "outputs": [
    {
     "name": "stdout",
     "output_type": "stream",
     "text": [
      "2.0\n",
      "division by zero\n"
     ]
    }
   ],
   "source": [
    "#Problem2\n",
    "def div(x,y):\n",
    "    try:\n",
    "        print(x/y)\n",
    "    except ZeroDivisionError as a:\n",
    "        print(a)\n",
    "    except Exception:\n",
    "        print(\"General Error\")\n",
    "\n",
    "div(10,5)   \n",
    "div(9,0)"
   ]
  },
  {
   "cell_type": "code",
   "execution_count": 11,
   "metadata": {},
   "outputs": [
    {
     "name": "stdout",
     "output_type": "stream",
     "text": [
      "The entry is:  a\n",
      "Oops! The exception that occured: \n",
      "The entry is:  0\n",
      "Oops! The exception that occured: \n",
      "The entry is:  2\n",
      "The reciprocal of the  2 is 0.5\n"
     ]
    }
   ],
   "source": [
    "#Problem3\n",
    "list1=[\"a\", 0, 2]\n",
    "for i in list1:\n",
    "    print(\"The entry is: \",i)\n",
    "    try:\n",
    "        print(\"The reciprocal of the \",i, \"is\",1/i)\n",
    "    except Exception:\n",
    "        print(\"Oops! The exception that occured: \")"
   ]
  },
  {
   "cell_type": "code",
   "execution_count": 14,
   "metadata": {},
   "outputs": [
    {
     "name": "stdout",
     "output_type": "stream",
     "text": [
      "Enter username Rambo\n",
      "Rambo is an invalid username\n"
     ]
    }
   ],
   "source": [
    "#Problem4\n",
    "class New_Exception(Exception):\n",
    "    pass\n",
    "\n",
    "username=input(\"Enter username \")\n",
    "try:\n",
    "    if username ==\"Rambo\":\n",
    "        raise New_Exception(\"Rambo is an invalid username\")\n",
    "except Exception as a:\n",
    "    print(a)\n",
    "else:\n",
    "    print(\"Welcome\", username)"
   ]
  }
 ],
 "metadata": {
  "kernelspec": {
   "display_name": "Python 3",
   "language": "python",
   "name": "python3"
  },
  "language_info": {
   "codemirror_mode": {
    "name": "ipython",
    "version": 3
   },
   "file_extension": ".py",
   "mimetype": "text/x-python",
   "name": "python",
   "nbconvert_exporter": "python",
   "pygments_lexer": "ipython3",
   "version": "3.7.3"
  }
 },
 "nbformat": 4,
 "nbformat_minor": 2
}
