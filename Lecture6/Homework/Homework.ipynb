{
 "cells": [
  {
   "cell_type": "markdown",
   "metadata": {},
   "source": [
    "## Problem 1"
   ]
  },
  {
   "cell_type": "code",
   "execution_count": 1,
   "metadata": {},
   "outputs": [
    {
     "name": "stdout",
     "output_type": "stream",
     "text": [
      "No module named 'module1'\n"
     ]
    }
   ],
   "source": [
    "try:\n",
    "    import module1\n",
    "except ModuleNotFoundError as m:\n",
    "    print(m)"
   ]
  },
  {
   "cell_type": "markdown",
   "metadata": {},
   "source": [
    "## Problem 2"
   ]
  },
  {
   "cell_type": "code",
   "execution_count": 2,
   "metadata": {},
   "outputs": [
    {
     "name": "stdout",
     "output_type": "stream",
     "text": [
      "3.0\n"
     ]
    },
    {
     "ename": "AssertionError",
     "evalue": "Can’t divide",
     "output_type": "error",
     "traceback": [
      "\u001b[1;31m---------------------------------------------------------------------------\u001b[0m",
      "\u001b[1;31mAssertionError\u001b[0m                            Traceback (most recent call last)",
      "\u001b[1;32m<ipython-input-2-6e884c5d48dc>\u001b[0m in \u001b[0;36m<module>\u001b[1;34m\u001b[0m\n\u001b[0;32m      4\u001b[0m \u001b[1;33m\u001b[0m\u001b[0m\n\u001b[0;32m      5\u001b[0m \u001b[0mprint\u001b[0m\u001b[1;33m(\u001b[0m\u001b[0mdiv\u001b[0m\u001b[1;33m(\u001b[0m\u001b[1;36m6\u001b[0m\u001b[1;33m,\u001b[0m\u001b[1;36m2\u001b[0m\u001b[1;33m)\u001b[0m\u001b[1;33m)\u001b[0m\u001b[1;33m\u001b[0m\u001b[1;33m\u001b[0m\u001b[0m\n\u001b[1;32m----> 6\u001b[1;33m \u001b[0mdiv\u001b[0m\u001b[1;33m(\u001b[0m\u001b[1;36m6\u001b[0m\u001b[1;33m,\u001b[0m\u001b[1;36m0\u001b[0m\u001b[1;33m)\u001b[0m\u001b[1;33m\u001b[0m\u001b[1;33m\u001b[0m\u001b[0m\n\u001b[0m",
      "\u001b[1;32m<ipython-input-2-6e884c5d48dc>\u001b[0m in \u001b[0;36mdiv\u001b[1;34m(x, y)\u001b[0m\n\u001b[0;32m      1\u001b[0m \u001b[1;32mdef\u001b[0m \u001b[0mdiv\u001b[0m\u001b[1;33m(\u001b[0m\u001b[0mx\u001b[0m\u001b[1;33m,\u001b[0m\u001b[0my\u001b[0m\u001b[1;33m)\u001b[0m\u001b[1;33m:\u001b[0m\u001b[1;33m\u001b[0m\u001b[1;33m\u001b[0m\u001b[0m\n\u001b[1;32m----> 2\u001b[1;33m     \u001b[1;32massert\u001b[0m \u001b[0my\u001b[0m\u001b[1;33m!=\u001b[0m\u001b[1;36m0\u001b[0m\u001b[1;33m,\u001b[0m \u001b[1;34m\"Can’t divide\"\u001b[0m\u001b[1;33m\u001b[0m\u001b[1;33m\u001b[0m\u001b[0m\n\u001b[0m\u001b[0;32m      3\u001b[0m     \u001b[1;32mreturn\u001b[0m \u001b[0mx\u001b[0m\u001b[1;33m/\u001b[0m\u001b[0my\u001b[0m\u001b[1;33m\u001b[0m\u001b[1;33m\u001b[0m\u001b[0m\n\u001b[0;32m      4\u001b[0m \u001b[1;33m\u001b[0m\u001b[0m\n\u001b[0;32m      5\u001b[0m \u001b[0mprint\u001b[0m\u001b[1;33m(\u001b[0m\u001b[0mdiv\u001b[0m\u001b[1;33m(\u001b[0m\u001b[1;36m6\u001b[0m\u001b[1;33m,\u001b[0m\u001b[1;36m2\u001b[0m\u001b[1;33m)\u001b[0m\u001b[1;33m)\u001b[0m\u001b[1;33m\u001b[0m\u001b[1;33m\u001b[0m\u001b[0m\n",
      "\u001b[1;31mAssertionError\u001b[0m: Can’t divide"
     ]
    }
   ],
   "source": [
    "def div(x,y):\n",
    "    assert y!=0, \"Can’t divide\"\n",
    "    return x/y\n",
    "    \n",
    "print(div(6,2))\n",
    "div(6,0)"
   ]
  },
  {
   "cell_type": "markdown",
   "metadata": {},
   "source": [
    "## Problem 3 "
   ]
  },
  {
   "cell_type": "code",
   "execution_count": 3,
   "metadata": {},
   "outputs": [
    {
     "name": "stdout",
     "output_type": "stream",
     "text": [
      "Enter name of the second person: Nune\n",
      "Enter lastname of the second person: Harutyunyan\n",
      "Enter age of the second person: 22\n",
      "Enter gender of the second person: Female\n",
      "Is the second person a student?: True\n",
      "Enter password of the second person: hsjdhu*\n",
      "Welcome dear Nune\n",
      "Function_time:  0:00:28.564055\n"
     ]
    },
    {
     "data": {
      "text/plain": [
       "'2kajnO'"
      ]
     },
     "execution_count": 3,
     "metadata": {},
     "output_type": "execute_result"
    }
   ],
   "source": [
    "import datetime \n",
    "\n",
    "def dec(fn):\n",
    "    def wrapper(*args, **kwargs):\n",
    "        start=datetime.datetime.now()\n",
    "        fn(*args, **kwargs)\n",
    "        finish=datetime.datetime.now()\n",
    "        print(\"Function_time: \", finish-start)\n",
    "    return wrapper\n",
    "\n",
    "class New_exception(Exception):\n",
    "    pass\n",
    "\n",
    "class Person:\n",
    "    def __init__(self, name, last_name, age, gender, student, password):\n",
    "        self.name=name\n",
    "        self.last_name=last_name\n",
    "        self.age=age\n",
    "        self.gender=gender\n",
    "        try:\n",
    "            if student in [True, False, \"True\", \"False\"]:\n",
    "                self.student=bool(student)     \n",
    "            else:\n",
    "                raise New_exception(\"Student must be True or False\")    \n",
    "        except Exception as a:\n",
    "            print(a)\n",
    "        self.__password=password\n",
    "    @dec\n",
    "    def Greeting(self):\n",
    "        second_person=Person(input(\"Enter name of the second person: \"), input(\"Enter lastname of the second person: \"),\\\n",
    "                             input(\"Enter age of the second person: \"),input(\"Enter gender of the second person: \"),\\\n",
    "                             input(\"Is the second person a student?: \"),input(\"Enter password of the second person: \"))\n",
    "        print(\"Welcome dear\", second_person.name)\n",
    "    \n",
    "    def Goodbye(self):\n",
    "        print(\"Bye everyone\")\n",
    "    def Favourite_num(self):\n",
    "        num1=int(input(\"Enter number\"))\n",
    "        print(\"My favourite number is \", num1)\n",
    "    def Read_file(self, filename):\n",
    "        try:\n",
    "            open(filename+\".txt\")\n",
    "        except FileNotFoundError as a:\n",
    "            print(a)\n",
    "    def set_password(self, new_password):\n",
    "        self.__password=new_password\n",
    "    def get_password(self):\n",
    "        return self.__password\n",
    "    \n",
    "        \n",
    "per_1=Person(\"Ani\",\"Avagyan\",30,\"female\",True, \"Gfa25310\")\n",
    "\n",
    "\n",
    "per_1.Greeting()\n",
    "#per_1.Favourite_num()\n",
    "per_1.Read_file(\"file_1\")\n",
    "per_1.get_password() \n",
    "per_1.set_password(\"2kajnO\")\n",
    "per_1._Person__password"
   ]
  },
  {
   "cell_type": "markdown",
   "metadata": {},
   "source": [
    "## Problem 3 "
   ]
  },
  {
   "cell_type": "code",
   "execution_count": 47,
   "metadata": {},
   "outputs": [
    {
     "name": "stdout",
     "output_type": "stream",
     "text": [
      "Welcome dear Anahit\n",
      "Function_time:  0:00:00\n",
      "num1 must be integer\n"
     ]
    },
    {
     "data": {
      "text/plain": [
       "'2kajnO'"
      ]
     },
     "execution_count": 47,
     "metadata": {},
     "output_type": "execute_result"
    }
   ],
   "source": [
    "import datetime \n",
    "\n",
    "def dec(fn):\n",
    "    def wrapper(*args, **kwargs):\n",
    "        start=datetime.datetime.now()\n",
    "        fn(*args, **kwargs)\n",
    "        finish=datetime.datetime.now()\n",
    "        print(\"Function_time: \", finish-start)\n",
    "    return wrapper\n",
    "\n",
    "class New_exception(Exception):\n",
    "    pass\n",
    "\n",
    "class Person:\n",
    "    def __init__(self, name, last_name, age, gender, student, password):\n",
    "        self.name=name\n",
    "        self.last_name=last_name\n",
    "        self.age=age\n",
    "        self.gender=gender\n",
    "        try:\n",
    "            if type(student)==bool:\n",
    "                self.student=student    \n",
    "            else:\n",
    "                raise New_exception(\"Student must be True or False\")    \n",
    "        except Exception as a:\n",
    "            print(a)\n",
    "        self.__password=password\n",
    "    @dec\n",
    "    def Greeting(self,second_person):\n",
    "        self.second_person=second_person\n",
    "        print(\"Welcome dear\", second_person.name)\n",
    "    \n",
    "    def Goodbye(self):\n",
    "        print(\"Bye everyone\")\n",
    "    def Favourite_num(self, num1):\n",
    "        try:\n",
    "            if type(num1)==int:\n",
    "                self.num1=num1\n",
    "                print(\"My favourite number is \", self.num1)\n",
    "            else:\n",
    "                raise New_exception(\"num1 must be integer\")\n",
    "        except Exception as b:\n",
    "            print(b)\n",
    "    def Read_file(self, filename):\n",
    "        try:\n",
    "            open(filename+\".txt\")\n",
    "        except FileNotFoundError as a:\n",
    "            print(a)\n",
    "    def set_password(self, new_password):\n",
    "        self.__password=new_password\n",
    "    def get_password(self):\n",
    "        return self.__password\n",
    "    \n",
    "        \n",
    "per_1=Person(\"Ani\",\"Avagyan\",30,\"female\",False, \"Gfa25310\")\n",
    "per_2=Person(\"Anahit\",\"Darbinyan\",22,\"female\",True, \"AaA10\")\n",
    "\n",
    "Person.Greeting(per_1, per_2)\n",
    "\n",
    "per_1.Favourite_num(False)\n",
    "per_1.Read_file(\"file_1\")\n",
    "per_1.get_password() \n",
    "per_1.set_password(\"2kajnO\")\n",
    "per_1._Person__password"
   ]
  }
 ],
 "metadata": {
  "kernelspec": {
   "display_name": "Python 3",
   "language": "python",
   "name": "python3"
  },
  "language_info": {
   "codemirror_mode": {
    "name": "ipython",
    "version": 3
   },
   "file_extension": ".py",
   "mimetype": "text/x-python",
   "name": "python",
   "nbconvert_exporter": "python",
   "pygments_lexer": "ipython3",
   "version": "3.7.3"
  }
 },
 "nbformat": 4,
 "nbformat_minor": 2
}
