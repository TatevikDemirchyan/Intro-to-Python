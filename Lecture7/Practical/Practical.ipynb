{
 "cells": [
  {
   "cell_type": "markdown",
   "metadata": {},
   "source": [
    "# Inheritance"
   ]
  },
  {
   "cell_type": "code",
   "execution_count": 1,
   "metadata": {},
   "outputs": [
    {
     "name": "stdout",
     "output_type": "stream",
     "text": [
      "I can move\n"
     ]
    },
    {
     "data": {
      "text/plain": [
       "'Dog'"
      ]
     },
     "execution_count": 1,
     "metadata": {},
     "output_type": "execute_result"
    }
   ],
   "source": [
    "#Problem1\n",
    "class Animal:\n",
    "    def __init__(self, name):\n",
    "        self.name=name\n",
    "    def move(self):\n",
    "        print(\"I can move\")\n",
    "\n",
    "class Dog(Animal):\n",
    "    def __init__(self):\n",
    "        Animal.__init__(self, \"Dog\")\n",
    "\n",
    "dog_1=Dog()\n",
    "dog_1.move()\n",
    "dog_1.name"
   ]
  },
  {
   "cell_type": "code",
   "execution_count": 3,
   "metadata": {},
   "outputs": [
    {
     "name": "stdout",
     "output_type": "stream",
     "text": [
      "I can run really fast\n"
     ]
    }
   ],
   "source": [
    "#Problem1\n",
    "class Animal:\n",
    "    def __init__(self, name):\n",
    "        self.name=name\n",
    "    def move(self):\n",
    "        print(\"I can move\")\n",
    "\n",
    "class Dog(Animal):\n",
    "    def __init__(self):\n",
    "        Animal.__init__(self, \"Dog\")\n",
    "    def move(self):\n",
    "        print(\"I can run really fast\")\n",
    "        \n",
    "dog_1=Dog()\n",
    "dog_1.move()"
   ]
  },
  {
   "cell_type": "code",
   "execution_count": 10,
   "metadata": {},
   "outputs": [
    {
     "name": "stdout",
     "output_type": "stream",
     "text": [
      "My name is  Exnik\n",
      "I have  4 legs\n"
     ]
    }
   ],
   "source": [
    "#Problem2\n",
    "class Animal:\n",
    "    def __init__(self, name, legs):\n",
    "        self.name=name\n",
    "        self.legs=legs\n",
    "    def getName(self):\n",
    "        print(\"My name is \", self.name)\n",
    "    def getLegs(self):\n",
    "        print(\"I have \", self.legs, \"legs\")\n",
    "\n",
    "class Exnik(Animal):\n",
    "    def __init__(self):\n",
    "        super().__init__(\"Exnik\", 4)\n",
    "\n",
    "exnik_1=Exnik()\n",
    "exnik_1.getName()\n",
    "exnik_1.getLegs()"
   ]
  },
  {
   "cell_type": "code",
   "execution_count": 27,
   "metadata": {},
   "outputs": [
    {
     "name": "stdout",
     "output_type": "stream",
     "text": [
      "I believe I can fly\n"
     ]
    }
   ],
   "source": [
    "#Problem3\n",
    "from abc import ABC, abstractmethod\n",
    " \n",
    "class Bird(ABC):\n",
    "    def __init__(self, name, weight):\n",
    "        self.name = name\n",
    "        self.weight=weight\n",
    "    \n",
    "    @abstractmethod\n",
    "    def fly(self):\n",
    "        pass\n",
    "\n",
    "class Hav(Bird):\n",
    "    def __init__(self, name, weight):\n",
    "        super().__init__(name, weight)\n",
    "    def fly(self):\n",
    "        print(\"I believe I can fly\")\n",
    "\n",
    "hav_1=Hav(\"a\",45)\n",
    "hav_1.fly()"
   ]
  },
  {
   "cell_type": "code",
   "execution_count": 25,
   "metadata": {},
   "outputs": [
    {
     "name": "stdout",
     "output_type": "stream",
     "text": [
      "The model of the vehicle is BMW\n",
      "The color of the vehicle is red\n"
     ]
    }
   ],
   "source": [
    "#Problem4\n",
    "class Model:\n",
    "    def __init__(self, name):\n",
    "        self.name=name\n",
    "    def printModel(self):\n",
    "        print(\"The model of the vehicle is\", self.name)\n",
    "        \n",
    "class Color:\n",
    "    def __init__(self, color):\n",
    "        self.color=color\n",
    "    def printColor(self):\n",
    "        print(\"The color of the vehicle is\", self.color)\n",
    "        \n",
    "class Car(Model,Color):\n",
    "    def __init__(self, model,color):\n",
    "        Model.__init__(self, model)\n",
    "        Color.__init__(self, color)\n",
    "        \n",
    "car_1=Car(\"BMW\",\"red\")\n",
    "car_1.printModel()\n",
    "car_1.printColor()"
   ]
  }
 ],
 "metadata": {
  "kernelspec": {
   "display_name": "Python 3",
   "language": "python",
   "name": "python3"
  },
  "language_info": {
   "codemirror_mode": {
    "name": "ipython",
    "version": 3
   },
   "file_extension": ".py",
   "mimetype": "text/x-python",
   "name": "python",
   "nbconvert_exporter": "python",
   "pygments_lexer": "ipython3",
   "version": "3.7.3"
  }
 },
 "nbformat": 4,
 "nbformat_minor": 2
}
