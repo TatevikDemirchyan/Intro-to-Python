{
 "cells": [
  {
   "cell_type": "markdown",
   "metadata": {},
   "source": [
    "# Inheritance"
   ]
  },
  {
   "cell_type": "code",
   "execution_count": 1,
   "metadata": {},
   "outputs": [
    {
     "name": "stdout",
     "output_type": "stream",
     "text": [
      "8\n",
      "-2\n",
      "15\n",
      "0.6\n"
     ]
    }
   ],
   "source": [
    "#problem1\n",
    "class Calculation:\n",
    "    def __init__(self,x,y):\n",
    "        self.x=x\n",
    "        self.y=y\n",
    "    def addition(self):\n",
    "        print(self.x+self.y)\n",
    "    def subtraction(self):\n",
    "        print(self.x-self.y)\n",
    "        \n",
    "class MyCalculation(Calculation):\n",
    "    def __init__(self,x,y):\n",
    "        super().__init__(x,y)\n",
    "    def multiplication(self):\n",
    "        print(self.x*self.y)\n",
    "    def division(self):\n",
    "        print(self.x/self.y)\n",
    "\n",
    "calc_1=MyCalculation(3,5)\n",
    "calc_1.addition()\n",
    "calc_1.subtraction()\n",
    "calc_1.multiplication()\n",
    "calc_1.division()"
   ]
  },
  {
   "cell_type": "code",
   "execution_count": 2,
   "metadata": {},
   "outputs": [
    {
     "name": "stdout",
     "output_type": "stream",
     "text": [
      "The current time is  12 PM\n",
      "The current date is  13.03.2013\n"
     ]
    }
   ],
   "source": [
    "#problem2\n",
    "class My_Time:\n",
    "    def __init__(self, t):\n",
    "        self.t=t\n",
    "    def printTime(self):\n",
    "        print(\"The current time is \",self.t)\n",
    "\n",
    "class My_Date:\n",
    "    def __init__(self,d):\n",
    "        self.d=d\n",
    "    def printDate(self):\n",
    "        print(\"The current date is \", self.d)\n",
    "\n",
    "class Date_Time(My_Time, My_Date):\n",
    "    def __init__(self,t,d):\n",
    "        My_Time.__init__(self,t)\n",
    "        My_Date.__init__(self,d)\n",
    "        \n",
    "dt_1=Date_Time(\"12 PM\", \"13.03.2013\")\n",
    "dt_1.printTime()\n",
    "dt_1.printDate()"
   ]
  },
  {
   "cell_type": "markdown",
   "metadata": {},
   "source": [
    "# Numpy"
   ]
  },
  {
   "cell_type": "code",
   "execution_count": 3,
   "metadata": {},
   "outputs": [],
   "source": [
    "import numpy as np"
   ]
  },
  {
   "cell_type": "code",
   "execution_count": 4,
   "metadata": {},
   "outputs": [
    {
     "data": {
      "text/plain": [
       "array([[2, 9, 8, 1, 5],\n",
       "       [4, 7, 8, 9, 5],\n",
       "       [6, 8, 7, 8, 2]])"
      ]
     },
     "execution_count": 4,
     "metadata": {},
     "output_type": "execute_result"
    }
   ],
   "source": [
    "#problem3\n",
    "array_1=np.random.randint(1,10,(3,5))\n",
    "array_1"
   ]
  },
  {
   "cell_type": "code",
   "execution_count": 5,
   "metadata": {},
   "outputs": [
    {
     "data": {
      "text/plain": [
       "array([0, 0, 0, 0, 3, 0, 0, 0, 0, 0])"
      ]
     },
     "execution_count": 5,
     "metadata": {},
     "output_type": "execute_result"
    }
   ],
   "source": [
    "#problem4\n",
    "array_2=np.zeros(10, dtype=int)\n",
    "array_2[4]=3\n",
    "array_2"
   ]
  },
  {
   "cell_type": "code",
   "execution_count": 6,
   "metadata": {},
   "outputs": [
    {
     "data": {
      "text/plain": [
       "array([ 3,  4,  5,  6,  7,  8,  9, 10, 11, 12, 13, 14, 15])"
      ]
     },
     "execution_count": 6,
     "metadata": {},
     "output_type": "execute_result"
    }
   ],
   "source": [
    "#problem5\n",
    "array_3=np.arange(3,16)\n",
    "array_3"
   ]
  },
  {
   "cell_type": "code",
   "execution_count": 7,
   "metadata": {},
   "outputs": [
    {
     "name": "stdout",
     "output_type": "stream",
     "text": [
      "[[1 3]\n",
      " [5 2]\n",
      " [4 5]] \n",
      "\n",
      "[[1 3 5]\n",
      " [2 4 5]]\n"
     ]
    },
    {
     "data": {
      "text/plain": [
       "array([1, 3, 5, 2, 4, 5])"
      ]
     },
     "execution_count": 7,
     "metadata": {},
     "output_type": "execute_result"
    }
   ],
   "source": [
    "#problem6\n",
    "array_4=np.array([1, 3, 5, 2, 4, 5])\n",
    "print(array_4.reshape(3,2),\"\\n\")\n",
    "print(array_4.reshape(2,3))\n",
    "array_4"
   ]
  },
  {
   "cell_type": "code",
   "execution_count": 35,
   "metadata": {},
   "outputs": [
    {
     "name": "stdout",
     "output_type": "stream",
     "text": [
      "[5 3 9 1]\n"
     ]
    }
   ],
   "source": [
    "#problem7\n",
    "def func_1(array):\n",
    "    while np.mean(array)>5:\n",
    "        for i in range(len(array)):\n",
    "            array[i]=array[i]/2\n",
    "    if np.mean(array)<=5:\n",
    "        print(array)\n",
    "    \n",
    "c=np.array([10,6,18,3])\n",
    "func_1(c)"
   ]
  },
  {
   "cell_type": "code",
   "execution_count": 56,
   "metadata": {},
   "outputs": [
    {
     "name": "stdout",
     "output_type": "stream",
     "text": [
      "[[3 6 4 8]\n",
      " [6 9 4 4]\n",
      " [1 3 6 8]\n",
      " [1 8 2 8]\n",
      " [8 8 9 3]] \n",
      "\n",
      "[3 6 1 1 8] \n",
      "\n",
      "[6 9 3 8 8] \n",
      "\n",
      "[4 4 6 2 9] \n",
      "\n",
      "[8 4 8 8 3] \n",
      "\n",
      "[3 6 4 8]\n",
      "[6 9 4 4]\n",
      "[1 3 6 8]\n",
      "[1 8 2 8]\n",
      "[8 8 9 3]\n"
     ]
    }
   ],
   "source": [
    "#problem8\n",
    "def func_2(array):\n",
    "    for i in range(0,4):\n",
    "        print(array[..., i],\"\\n\")\n",
    "    \n",
    "def func_3(array):\n",
    "    for i in range(0,5):\n",
    "        print(array[i,...])\n",
    "    \n",
    "    \n",
    "d=np.random.randint(1,10,(5,4))  \n",
    "print(d,\"\\n\")\n",
    "\n",
    "func_2(d)\n",
    "func_3(d)"
   ]
  }
 ],
 "metadata": {
  "kernelspec": {
   "display_name": "Python 3",
   "language": "python",
   "name": "python3"
  },
  "language_info": {
   "codemirror_mode": {
    "name": "ipython",
    "version": 3
   },
   "file_extension": ".py",
   "mimetype": "text/x-python",
   "name": "python",
   "nbconvert_exporter": "python",
   "pygments_lexer": "ipython3",
   "version": "3.7.3"
  }
 },
 "nbformat": 4,
 "nbformat_minor": 2
}
