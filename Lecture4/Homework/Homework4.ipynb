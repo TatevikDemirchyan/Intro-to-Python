{
 "cells": [
  {
   "cell_type": "markdown",
   "metadata": {},
   "source": [
    "# Conditionals"
   ]
  },
  {
   "cell_type": "code",
   "execution_count": 1,
   "metadata": {},
   "outputs": [
    {
     "name": "stdout",
     "output_type": "stream",
     "text": [
      "How many shoes do you want? 50\n",
      "You get a discount\n"
     ]
    }
   ],
   "source": [
    "#problem1\n",
    "n_shoes=int(input(\"How many shoes do you want? \"))\n",
    "if n_shoes*100>1000:\n",
    "    print(\"You get a discount\")\n",
    "else:\n",
    "    print(\"You don’t get a discount\")"
   ]
  },
  {
   "cell_type": "code",
   "execution_count": 2,
   "metadata": {},
   "outputs": [
    {
     "name": "stdout",
     "output_type": "stream",
     "text": [
      "Good job\n"
     ]
    }
   ],
   "source": [
    "#problem2\n",
    "d={\"name\": \"Armen\", \"age\": 15, \"grades\": [10, 8, 8, 4, 6, 7] }\n",
    "average=sum(d[\"grades\"])/len(d[\"grades\"])\n",
    "if average>7:\n",
    "    print(\"Good job\")\n",
    "else:\n",
    "    print(\"You need to work more\")"
   ]
  },
  {
   "cell_type": "markdown",
   "metadata": {},
   "source": [
    "# Loops and loop control statements"
   ]
  },
  {
   "cell_type": "code",
   "execution_count": 12,
   "metadata": {},
   "outputs": [
    {
     "name": "stdout",
     "output_type": "stream",
     "text": [
      "10\n"
     ]
    }
   ],
   "source": [
    "#problem3\n",
    "for x in range(11):\n",
    "    if x%2==0:\n",
    "        continue\n",
    "print(x)"
   ]
  },
  {
   "cell_type": "code",
   "execution_count": 4,
   "metadata": {},
   "outputs": [],
   "source": [
    "#problem4\n",
    "list1=[1, 3, 5, 7, 9, 11, 13, 15]\n",
    "list2=[4, 6, 14, 11, 8, 16]\n",
    "for x in list1:\n",
    "    if x in list2:\n",
    "        break"
   ]
  },
  {
   "cell_type": "code",
   "execution_count": 5,
   "metadata": {},
   "outputs": [
    {
     "name": "stdout",
     "output_type": "stream",
     "text": [
      "Enter desert cake\n",
      "Please choose another desert \n",
      "Enter another desert carrot cake\n",
      "Enter another desert cookies\n",
      "Your desert will arrive in 10 minutes\n"
     ]
    }
   ],
   "source": [
    "#problem5\n",
    "menu=['ice cream', 'chocolate', 'apple crisp', 'cookies']\n",
    "desert=input(\"Enter desert \")\n",
    "if desert in menu:\n",
    "    print(\"Your desert will arrive in 10 minutes\")\n",
    "else:\n",
    "    print(\"Please choose another desert \")\n",
    "    while desert not in menu:\n",
    "        desert=input(\"Enter another desert \")\n",
    "    print(\"Your desert will arrive in 10 minutes\")"
   ]
  },
  {
   "cell_type": "markdown",
   "metadata": {},
   "source": [
    "# List comprehension"
   ]
  },
  {
   "cell_type": "code",
   "execution_count": 6,
   "metadata": {},
   "outputs": [
    {
     "name": "stdout",
     "output_type": "stream",
     "text": [
      "6\n"
     ]
    }
   ],
   "source": [
    "#problem6\n",
    "list2=[1,2,5,6,7,9,10,15,17,3,4,9,88]\n",
    "list3=[x for x in list2 if x>=5 and x<=10]\n",
    "print(len(list3))"
   ]
  },
  {
   "cell_type": "code",
   "execution_count": 11,
   "metadata": {},
   "outputs": [
    {
     "name": "stdout",
     "output_type": "stream",
     "text": [
      "\n",
      " list4:  [[10, 20, 40], [40, 50, 60], [70, 80, 90]] \n",
      " list5:  [[10, 20, 100], [40, 50, 100], [70, 80, 100]]\n"
     ]
    }
   ],
   "source": [
    "#problem7\n",
    "list4=[[10, 20, 40], [40, 50, 60],[70, 80, 90]]\n",
    "list5=[x[:-1] for x in list4]\n",
    "for x in list5:\n",
    "    x.append(100)\n",
    "print(\"\\n\", \"list4: \",list4,\"\\n\",\"list5: \",list5)"
   ]
  }
 ],
 "metadata": {
  "kernelspec": {
   "display_name": "Python 3",
   "language": "python",
   "name": "python3"
  },
  "language_info": {
   "codemirror_mode": {
    "name": "ipython",
    "version": 3
   },
   "file_extension": ".py",
   "mimetype": "text/x-python",
   "name": "python",
   "nbconvert_exporter": "python",
   "pygments_lexer": "ipython3",
   "version": "3.7.3"
  }
 },
 "nbformat": 4,
 "nbformat_minor": 2
}
