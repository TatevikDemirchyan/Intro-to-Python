{
 "cells": [
  {
   "cell_type": "markdown",
   "metadata": {},
   "source": [
    "# Conditionals"
   ]
  },
  {
   "cell_type": "code",
   "execution_count": 2,
   "metadata": {},
   "outputs": [
    {
     "name": "stdout",
     "output_type": "stream",
     "text": [
      "Enter the number1 10\n",
      "Enter the number2 20\n",
      "The number 20 is the greatest\n"
     ]
    }
   ],
   "source": [
    "#problem1\n",
    "number1=int(input(\"Enter the number1 \"))\n",
    "number2=int(input(\"Enter the number2 \"))\n",
    "if number1>number2:\n",
    "    print(\"The number\", number1,\"is the greatest\")\n",
    "else:\n",
    "    print(\"The number\", number2,\"is the greatest\")"
   ]
  },
  {
   "cell_type": "code",
   "execution_count": 59,
   "metadata": {},
   "outputs": [
    {
     "name": "stdout",
     "output_type": "stream",
     "text": [
      "It's rectangle\n"
     ]
    }
   ],
   "source": [
    "#problem2\n",
    "a=10\n",
    "b=5\n",
    "if a==b:\n",
    "    print(\"It's squere\")\n",
    "else:\n",
    "    print(\"It's rectangle\")"
   ]
  },
  {
   "cell_type": "code",
   "execution_count": 14,
   "metadata": {},
   "outputs": [
    {
     "name": "stdout",
     "output_type": "stream",
     "text": [
      "Please enter a different password\n"
     ]
    }
   ],
   "source": [
    "#problem3\n",
    "name=\"Tatevik\"\n",
    "age=26\n",
    "password=\"d253614t\"\n",
    "if name==\"Batman\":\n",
    "    print(\"Welcome Mr. Batman!\")\n",
    "elif age<16:\n",
    "    print(\"Dear\",name, \"you are too young to register\")\n",
    "elif \"*\" not in password and \"&\" not in password:\n",
    "    print(\"Please enter a different password\")\n",
    "else:\n",
    "    pass"
   ]
  },
  {
   "cell_type": "code",
   "execution_count": 19,
   "metadata": {},
   "outputs": [
    {
     "name": "stdout",
     "output_type": "stream",
     "text": [
      "Enter the number30\n",
      "{'name': 'Armen', 'age': 15, 'grades': [10, 8, 8, 4, 6, 7], 'weight': 30}\n",
      "{'name': 'Armen', 'age': 15, 'grades': [10, 8, 8, 4, 6, 7], 'weight': 45}\n"
     ]
    }
   ],
   "source": [
    "#problem4\n",
    "d={\"name\": \"Armen\", \"age\": 15,\"grades\": [10, 8, 8, 4, 6, 7]}\n",
    "if \"weight\" in d:\n",
    "    n=int(input(\"Enter the number\"))\n",
    "    d[\"weight\"]=[n]\n",
    "else:\n",
    "    n=int(input(\"Enter the number\"))\n",
    "    d[\"weight\"]=n\n",
    "print(d)\n",
    "d={\"name\": \"Armen\", \"age\": 15, \"grades\": [10, 8, 8, 4, 6, 7] ,\"weight\": 45}\n",
    "print(d)"
   ]
  },
  {
   "cell_type": "markdown",
   "metadata": {},
   "source": [
    "# Loops"
   ]
  },
  {
   "cell_type": "code",
   "execution_count": 39,
   "metadata": {},
   "outputs": [
    {
     "name": "stdout",
     "output_type": "stream",
     "text": [
      "1\n",
      "3\n",
      "5\n",
      "7\n",
      "9\n",
      "11\n",
      "13\n",
      "15\n",
      "17\n",
      "19\n",
      "21\n",
      "23\n",
      "25\n",
      "27\n",
      "29\n",
      "31\n",
      "33\n",
      "35\n",
      "37\n",
      "39\n",
      "41\n",
      "43\n",
      "45\n",
      "47\n",
      "49\n",
      "51\n",
      "53\n",
      "55\n",
      "57\n",
      "59\n",
      "61\n",
      "63\n",
      "65\n",
      "67\n",
      "69\n",
      "71\n",
      "73\n",
      "75\n",
      "77\n",
      "79\n",
      "81\n",
      "83\n",
      "85\n",
      "87\n",
      "89\n",
      "91\n",
      "93\n",
      "95\n",
      "97\n",
      "99\n"
     ]
    }
   ],
   "source": [
    "#problem5\n",
    "x=0\n",
    "while x<=100:\n",
    "    if x%2==1:\n",
    "        print(x)\n",
    "    x+=1"
   ]
  },
  {
   "cell_type": "code",
   "execution_count": 40,
   "metadata": {},
   "outputs": [
    {
     "name": "stdout",
     "output_type": "stream",
     "text": [
      "0\n",
      "1\n",
      "3\n",
      "5\n",
      "6\n"
     ]
    }
   ],
   "source": [
    "#problem6\n",
    "for x in list(range(7)):\n",
    "    if x==2 or x==4:\n",
    "        continue\n",
    "    print(x)"
   ]
  },
  {
   "cell_type": "code",
   "execution_count": 56,
   "metadata": {},
   "outputs": [
    {
     "name": "stdout",
     "output_type": "stream",
     "text": [
      "15\n"
     ]
    }
   ],
   "source": [
    "#problem7\n",
    "for x in range(0,21):\n",
    "    if x!=0 and x%3==0 and x%5==0:\n",
    "        break\n",
    "print(x)"
   ]
  },
  {
   "cell_type": "code",
   "execution_count": 27,
   "metadata": {},
   "outputs": [
    {
     "name": "stdout",
     "output_type": "stream",
     "text": [
      "5\n",
      "7\n",
      "-7\n",
      "abc\n",
      "2\n",
      "4\n",
      "True\n",
      "3\n"
     ]
    }
   ],
   "source": [
    "#problem8\n",
    "list1=[5, 7, -7, \"abc\", 2, 4, True, 3, 4, 6, 7, 7]\n",
    "for x in list1:\n",
    "    print(x)\n",
    "    if x==3:\n",
    "        break"
   ]
  },
  {
   "cell_type": "code",
   "execution_count": 28,
   "metadata": {},
   "outputs": [
    {
     "name": "stdout",
     "output_type": "stream",
     "text": [
      "Enter the number 32\n",
      "Enter other number 41\n",
      "Enter other number 30\n",
      "Enter other number 40\n",
      "Enter other number 5\n",
      "That was a good guess!\n"
     ]
    }
   ],
   "source": [
    "#problem9\n",
    "correct_num = 5\n",
    "guess = int(input(\"Enter the number \"))\n",
    "for x in range(10):\n",
    "    if guess==correct_num:\n",
    "        print(\"That was a good guess!\")\n",
    "        break\n",
    "    else:\n",
    "        guess=int(input(\"Enter other number \")) "
   ]
  },
  {
   "cell_type": "markdown",
   "metadata": {},
   "source": [
    "# List comprehension"
   ]
  },
  {
   "cell_type": "code",
   "execution_count": 32,
   "metadata": {},
   "outputs": [
    {
     "name": "stdout",
     "output_type": "stream",
     "text": [
      "\n",
      " [7, 8, 120, 25, 44, 20, 27] \n",
      " [7, 25, 27]\n"
     ]
    }
   ],
   "source": [
    "#problem10\n",
    "num = [7,8, 120, 25, 44, 20, 27]\n",
    "num_new=[x for x in num if x%2==1]\n",
    "print(\"\\n\",num, \"\\n\",num_new)"
   ]
  },
  {
   "cell_type": "code",
   "execution_count": 34,
   "metadata": {},
   "outputs": [
    {
     "name": "stdout",
     "output_type": "stream",
     "text": [
      "[1, 4, 9, 16, 25, 36, 49, 64, 81, 100, 121, 144, 169, 196, 225, 256, 289, 324, 361, 400, 441, 484, 529, 576, 625, 676, 729, 784, 841, 900, 961, 1024, 1089, 1156, 1225, 1296, 1369, 1444, 1521, 1600, 1681, 1764, 1849, 1936, 2025, 2116, 2209, 2304, 2401, 2500]\n"
     ]
    }
   ],
   "source": [
    "#problem11\n",
    "list3=[x**2 for x in range(1,51)]\n",
    "print(list3)"
   ]
  },
  {
   "cell_type": "code",
   "execution_count": 62,
   "metadata": {},
   "outputs": [
    {
     "name": "stdout",
     "output_type": "stream",
     "text": [
      "\n",
      " list1:  [1, 5, 3, 6, 10, 52] \n",
      " list2:  [52]\n"
     ]
    }
   ],
   "source": [
    "#problem12\n",
    "list1=[1,5,3,6,10,52]\n",
    "list2=[x for x in list1 if x>20]\n",
    "print(\"\\n\", \"list1: \",list1,\"\\n\", \"list2: \",list2)"
   ]
  },
  {
   "cell_type": "code",
   "execution_count": 52,
   "metadata": {},
   "outputs": [
    {
     "name": "stdout",
     "output_type": "stream",
     "text": [
      "Enter the textTatevik\n",
      "Tatevik ['T', 'a', 't', 'e', 'v', 'i', 'k']\n"
     ]
    }
   ],
   "source": [
    "#problem13\n",
    "str1=input(\"Enter the text \")\n",
    "l1=[x for x in str1]\n",
    "print(str1, l1)"
   ]
  },
  {
   "cell_type": "code",
   "execution_count": 55,
   "metadata": {},
   "outputs": [
    {
     "name": "stdout",
     "output_type": "stream",
     "text": [
      "['aba', '1221']\n",
      "2\n"
     ]
    }
   ],
   "source": [
    "#problem14\n",
    "list1=['al', 'abc', 'xyz', 'as', 'aba','1221']\n",
    "list2=[x for x in list1 if len(x)>=2 and x[0]==x[-1]]\n",
    "print(list2)\n",
    "print(len(list2))"
   ]
  }
 ],
 "metadata": {
  "kernelspec": {
   "display_name": "Python 3",
   "language": "python",
   "name": "python3"
  },
  "language_info": {
   "codemirror_mode": {
    "name": "ipython",
    "version": 3
   },
   "file_extension": ".py",
   "mimetype": "text/x-python",
   "name": "python",
   "nbconvert_exporter": "python",
   "pygments_lexer": "ipython3",
   "version": "3.7.3"
  }
 },
 "nbformat": 4,
 "nbformat_minor": 2
}
