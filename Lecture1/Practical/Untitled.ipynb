{
 "cells": [
  {
   "cell_type": "code",
   "execution_count": 2,
   "metadata": {},
   "outputs": [],
   "source": [
    "course= \"Intro to Python\""
   ]
  },
  {
   "cell_type": "code",
   "execution_count": 4,
   "metadata": {},
   "outputs": [],
   "source": [
    "student=\"Tatevik Demirchyan\""
   ]
  },
  {
   "cell_type": "code",
   "execution_count": 6,
   "metadata": {},
   "outputs": [
    {
     "data": {
      "text/plain": [
       "str"
      ]
     },
     "execution_count": 6,
     "metadata": {},
     "output_type": "execute_result"
    }
   ],
   "source": [
    "nickname=\"Superwoman/Superman\"\n",
    "type (nickname)"
   ]
  },
  {
   "cell_type": "code",
   "execution_count": 31,
   "metadata": {},
   "outputs": [],
   "source": [
    "grade=100\n",
    "python_expert=True"
   ]
  },
  {
   "cell_type": "code",
   "execution_count": 32,
   "metadata": {},
   "outputs": [
    {
     "name": "stdout",
     "output_type": "stream",
     "text": [
      "course: Intro to Python\n",
      "student: Tatevik Demirchyan\n",
      "nickname: Superwoman/Superman\n",
      "grade: 100\n",
      "python_expert: True\n"
     ]
    }
   ],
   "source": [
    "print(\"course:\",course)\n",
    "print(\"student:\",student)                     \n",
    "print(\"nickname:\",nickname)                   \n",
    "print(\"grade:\",grade)                   \n",
    "print(\"python_expert:\",python_expert)"
   ]
  },
  {
   "cell_type": "code",
   "execution_count": 47,
   "metadata": {},
   "outputs": [
    {
     "name": "stdout",
     "output_type": "stream",
     "text": [
      "The hypotenuse of the triangle ABC= 5\n"
     ]
    }
   ],
   "source": [
    "import math\n",
    "AB=3\n",
    "AC=4\n",
    "BC=int(math.sqrt(AB**2+AC**2))\n",
    "print(\"The hypotenuse of the triangle ABC=\", BC)"
   ]
  }
 ],
 "metadata": {
  "kernelspec": {
   "display_name": "Python 3",
   "language": "python",
   "name": "python3"
  },
  "language_info": {
   "codemirror_mode": {
    "name": "ipython",
    "version": 3
   },
   "file_extension": ".py",
   "mimetype": "text/x-python",
   "name": "python",
   "nbconvert_exporter": "python",
   "pygments_lexer": "ipython3",
   "version": "3.7.3"
  }
 },
 "nbformat": 4,
 "nbformat_minor": 2
}
