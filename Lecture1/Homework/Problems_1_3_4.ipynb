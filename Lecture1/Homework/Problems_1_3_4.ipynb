{
 "cells": [
  {
   "cell_type": "code",
   "execution_count": 1,
   "metadata": {},
   "outputs": [
    {
     "name": "stdout",
     "output_type": "stream",
     "text": [
      "False \n",
      " True \n",
      " True \n",
      " False\n",
      "<class 'int'> \n",
      " <class 'int'> \n",
      " <class 'str'> \n",
      " <class 'int'> \n",
      " <class 'str'> \n",
      " <class 'float'>\n",
      "flour= 175 \n",
      " butter= 175 \n",
      " sugar= 100g \n",
      " eggs= 2 \n",
      " cocoa_powder= 1ts \n",
      " baking_powder= 0.5\n"
     ]
    }
   ],
   "source": [
    "project=\"cake\"\n",
    "difficulty=\"4\"\n",
    "ingredients=[\"flour\",\"butter\", \"sugar\", \"eggs\", \"cocoa powder\", \"baking powder\"]\n",
    "print(\"apples\" in ingredients,\"\\n\",\n",
    "      \"butter\" in ingredients, \"\\n\",\n",
    "      'eggs' in ingredients or \"margarine\" in ingredients,\"\\n\",\n",
    "      'eggs' in ingredients and \"margarine\" in ingredients)\n",
    "\n",
    "flour=175\n",
    "butter=175\n",
    "sugar=\"100g\"\n",
    "eggs=2\n",
    "cocoa_powder=\"1ts\"\n",
    "baking_powder=0.5\n",
    "print (type(flour), \"\\n\",\n",
    "type(butter),\"\\n\",\n",
    "type(sugar),\"\\n\",\n",
    "type(eggs),\"\\n\",\n",
    "type(cocoa_powder),\"\\n\",\n",
    "type(baking_powder))\n",
    "\n",
    "print (\"flour=\",flour,\"\\n\",\n",
    "       \"butter=\",butter,\"\\n\",\n",
    "       \"sugar=\",sugar,\"\\n\",\n",
    "       \"eggs=\",eggs,\"\\n\",\n",
    "       \"cocoa_powder=\",cocoa_powder,\"\\n\",\n",
    "       \"baking_powder=\",baking_powder)\n",
    "       \n"
   ]
  },
  {
   "cell_type": "code",
   "execution_count": 2,
   "metadata": {},
   "outputs": [
    {
     "name": "stdout",
     "output_type": "stream",
     "text": [
      "1003.0\n",
      "852\n"
     ]
    }
   ],
   "source": [
    "a=15\n",
    "b=8\n",
    "c=2\n",
    "print(5*a**2-a*b+a%2-a/5)\n",
    "print(b**3+3*a*b-10*c)"
   ]
  },
  {
   "cell_type": "code",
   "execution_count": 39,
   "metadata": {},
   "outputs": [
    {
     "name": "stdout",
     "output_type": "stream",
     "text": [
      "Մուտքագրեք թիվ2\n",
      "2 - even\n"
     ]
    }
   ],
   "source": [
    "number=int(input(\"Մուտքագրեք թիվ\"))\n",
    "if number%2==0:\n",
    "    print(number,\"- even\")\n",
    "else:\n",
    "    print(number,\"- odd\")"
   ]
  }
 ],
 "metadata": {
  "kernelspec": {
   "display_name": "Python 3",
   "language": "python",
   "name": "python3"
  },
  "language_info": {
   "codemirror_mode": {
    "name": "ipython",
    "version": 3
   },
   "file_extension": ".py",
   "mimetype": "text/x-python",
   "name": "python",
   "nbconvert_exporter": "python",
   "pygments_lexer": "ipython3",
   "version": "3.7.3"
  }
 },
 "nbformat": 4,
 "nbformat_minor": 2
}
