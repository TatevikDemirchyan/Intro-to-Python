{
 "cells": [
  {
   "cell_type": "markdown",
   "metadata": {},
   "source": [
    "## Problem 1"
   ]
  },
  {
   "cell_type": "code",
   "execution_count": 1,
   "metadata": {},
   "outputs": [
    {
     "name": "stdout",
     "output_type": "stream",
     "text": [
      "4562\n"
     ]
    }
   ],
   "source": [
    "def max(*args):\n",
    "    if not args:\n",
    "        return (\"no numbers given\")\n",
    "    else:\n",
    "        list1=sorted(list(args))\n",
    "        print(list1[-1])\n",
    "\n",
    "max(7,6,45,100,4562,1,0)\n"
   ]
  },
  {
   "cell_type": "markdown",
   "metadata": {},
   "source": [
    "## Problem 2"
   ]
  },
  {
   "cell_type": "code",
   "execution_count": 2,
   "metadata": {},
   "outputs": [
    {
     "data": {
      "text/plain": [
       "[2, 5, 6, 7]"
      ]
     },
     "execution_count": 2,
     "metadata": {},
     "output_type": "execute_result"
    }
   ],
   "source": [
    "def unique(arg):\n",
    "    list1=set(arg)\n",
    "    return list(list1)\n",
    "\n",
    "unique([2,2,5,6,2,7])"
   ]
  },
  {
   "cell_type": "markdown",
   "metadata": {},
   "source": [
    "## Problem 3"
   ]
  },
  {
   "cell_type": "code",
   "execution_count": 3,
   "metadata": {},
   "outputs": [
    {
     "name": "stdout",
     "output_type": "stream",
     "text": [
      "Before function call\n",
      "Inside the function\n",
      "After the function call\n"
     ]
    }
   ],
   "source": [
    "def dec_1(fn):\n",
    "    def wrapper():\n",
    "        print(\"Before function call\")\n",
    "        fn()\n",
    "        print(\"After the function call\")\n",
    "    return wrapper\n",
    "\n",
    "@dec_1\n",
    "def function_1():\n",
    "    print(\"Inside the function\")\n",
    "\n",
    "function_1()"
   ]
  },
  {
   "cell_type": "markdown",
   "metadata": {},
   "source": [
    "## Problem 4"
   ]
  },
  {
   "cell_type": "code",
   "execution_count": 4,
   "metadata": {},
   "outputs": [
    {
     "name": "stdout",
     "output_type": "stream",
     "text": [
      "<u> Hi, it’s is me! </u>\n"
     ]
    }
   ],
   "source": [
    "def dec_2(fn):\n",
    "    def wrapper():\n",
    "        return(fn()+\", it’s is me!\")\n",
    "    return wrapper\n",
    "\n",
    "def dec_3(fn):\n",
    "    def wrapper():\n",
    "        return(\"<u> \" + fn()+ \" </u>\")\n",
    "    return wrapper\n",
    "\n",
    "@dec_3\n",
    "@dec_2\n",
    "def fn_2():\n",
    "    return(\"Hi\")\n",
    "\n",
    "print(fn_2())"
   ]
  },
  {
   "cell_type": "markdown",
   "metadata": {},
   "source": [
    "## Problem 5"
   ]
  },
  {
   "cell_type": "code",
   "execution_count": 5,
   "metadata": {},
   "outputs": [
    {
     "name": "stdout",
     "output_type": "stream",
     "text": [
      "there are no values left\n",
      "[0, 1, 2, 3, 4, 5]\n"
     ]
    }
   ],
   "source": [
    "def my_range(n):\n",
    "    i=0\n",
    "    while i<=n+1:\n",
    "        if i<=n:\n",
    "            yield i\n",
    "        else:\n",
    "            print(\"there are no values left\")\n",
    "        i+=1           \n",
    "\n",
    "print(list(my_range(5)))"
   ]
  },
  {
   "cell_type": "markdown",
   "metadata": {},
   "source": [
    "## Problem 6"
   ]
  },
  {
   "cell_type": "code",
   "execution_count": 1,
   "metadata": {},
   "outputs": [
    {
     "name": "stdout",
     "output_type": "stream",
     "text": [
      "You bought pen  and spent 3000\n"
     ]
    }
   ],
   "source": [
    "run Customer.py"
   ]
  }
 ],
 "metadata": {
  "kernelspec": {
   "display_name": "Python 3",
   "language": "python",
   "name": "python3"
  },
  "language_info": {
   "codemirror_mode": {
    "name": "ipython",
    "version": 3
   },
   "file_extension": ".py",
   "mimetype": "text/x-python",
   "name": "python",
   "nbconvert_exporter": "python",
   "pygments_lexer": "ipython3",
   "version": "3.7.3"
  }
 },
 "nbformat": 4,
 "nbformat_minor": 2
}
