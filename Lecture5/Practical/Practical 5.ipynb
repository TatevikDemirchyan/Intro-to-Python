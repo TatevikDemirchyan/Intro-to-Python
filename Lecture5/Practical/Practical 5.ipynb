{
 "cells": [
  {
   "cell_type": "markdown",
   "metadata": {},
   "source": [
    "## Problem 1"
   ]
  },
  {
   "cell_type": "code",
   "execution_count": 6,
   "metadata": {},
   "outputs": [],
   "source": [
    "def average(x,y,z):\n",
    "    c=(x+y+z)/3\n",
    "    return c"
   ]
  },
  {
   "cell_type": "code",
   "execution_count": 7,
   "metadata": {},
   "outputs": [
    {
     "name": "stdout",
     "output_type": "stream",
     "text": [
      "enter 1st number 1\n",
      "enter 2nd number 2\n",
      "enter 3th number 3\n"
     ]
    },
    {
     "data": {
      "text/plain": [
       "2.0"
      ]
     },
     "execution_count": 7,
     "metadata": {},
     "output_type": "execute_result"
    }
   ],
   "source": [
    "x=int(input(\"enter 1st number \"))\n",
    "y=int(input(\"enter 2nd number \"))\n",
    "z=int(input(\"enter 3th number \"))\n",
    "average(x,y,z)"
   ]
  },
  {
   "cell_type": "markdown",
   "metadata": {},
   "source": [
    "## Problem 2"
   ]
  },
  {
   "cell_type": "code",
   "execution_count": 2,
   "metadata": {},
   "outputs": [],
   "source": [
    "def count_even(list1):\n",
    "    list2=[x for x in list1 if x%2==0]\n",
    "    return len(list2)"
   ]
  },
  {
   "cell_type": "code",
   "execution_count": 3,
   "metadata": {},
   "outputs": [
    {
     "data": {
      "text/plain": [
       "2"
      ]
     },
     "execution_count": 3,
     "metadata": {},
     "output_type": "execute_result"
    }
   ],
   "source": [
    "count_even([1,5,6,8])"
   ]
  },
  {
   "cell_type": "markdown",
   "metadata": {},
   "source": [
    "## Problem 3"
   ]
  },
  {
   "cell_type": "code",
   "execution_count": 22,
   "metadata": {},
   "outputs": [],
   "source": [
    "def password(x):\n",
    "    a=str(list(range(0,10)))\n",
    "    list1=[y for y in x if y in a]\n",
    "    if len(x)>=10 and len(list1)>=2:\n",
    "        return True \n",
    "    else:\n",
    "        return False"
   ]
  },
  {
   "cell_type": "code",
   "execution_count": 23,
   "metadata": {},
   "outputs": [
    {
     "data": {
      "text/plain": [
       "True"
      ]
     },
     "execution_count": 23,
     "metadata": {},
     "output_type": "execute_result"
    }
   ],
   "source": [
    "password(\"4444444444444\")"
   ]
  },
  {
   "cell_type": "markdown",
   "metadata": {},
   "source": [
    "## Problem 4"
   ]
  },
  {
   "cell_type": "code",
   "execution_count": 53,
   "metadata": {},
   "outputs": [],
   "source": [
    "def function_1(name, greeting = \"Welcome to our company!\"):\n",
    "    X=name\n",
    "    G=greeting\n",
    "    print(X,G)"
   ]
  },
  {
   "cell_type": "code",
   "execution_count": 57,
   "metadata": {},
   "outputs": [
    {
     "name": "stdout",
     "output_type": "stream",
     "text": [
      "Tatev Welcome to our company!\n"
     ]
    }
   ],
   "source": [
    "function_1(\"Tatev\")"
   ]
  },
  {
   "cell_type": "markdown",
   "metadata": {},
   "source": [
    "## Problem 5"
   ]
  },
  {
   "cell_type": "code",
   "execution_count": 73,
   "metadata": {},
   "outputs": [],
   "source": [
    "def average_1(name,*grades):\n",
    "    list1=list(grades)\n",
    "    averagelist=sum(list1)/len(list1)\n",
    "    print(name,\"your average grade is: \", averagelist)"
   ]
  },
  {
   "cell_type": "code",
   "execution_count": 78,
   "metadata": {},
   "outputs": [
    {
     "name": "stdout",
     "output_type": "stream",
     "text": [
      "Tatev your average grade is:  45.0\n"
     ]
    }
   ],
   "source": [
    "average_1(\"Tatev\", 20, 30, 50, 80)"
   ]
  },
  {
   "cell_type": "markdown",
   "metadata": {},
   "source": [
    "## Problem 6"
   ]
  },
  {
   "cell_type": "code",
   "execution_count": 23,
   "metadata": {},
   "outputs": [],
   "source": [
    "def function_2(user, **keywords):\n",
    "    if user==\"Admin\":\n",
    "        for key, value in keywords.items():\n",
    "            print(key +\":\"+ value)   \n",
    "    else:\n",
    "        print(\"access denied to the user \" + user)        "
   ]
  },
  {
   "cell_type": "code",
   "execution_count": 26,
   "metadata": {},
   "outputs": [
    {
     "name": "stdout",
     "output_type": "stream",
     "text": [
      "five:hing\n",
      "four:chors\n"
     ]
    }
   ],
   "source": [
    "function_2(\"Admin\", five =\"hing\", four =\"chors\")"
   ]
  },
  {
   "cell_type": "markdown",
   "metadata": {},
   "source": [
    "## Problem 7"
   ]
  },
  {
   "cell_type": "code",
   "execution_count": 27,
   "metadata": {},
   "outputs": [
    {
     "name": "stdout",
     "output_type": "stream",
     "text": [
      "Result:  4\n",
      "The result of the operation is  64\n"
     ]
    }
   ],
   "source": [
    "run calc.py"
   ]
  },
  {
   "cell_type": "markdown",
   "metadata": {},
   "source": [
    "## Problem 8"
   ]
  },
  {
   "cell_type": "code",
   "execution_count": 26,
   "metadata": {},
   "outputs": [
    {
     "name": "stdout",
     "output_type": "stream",
     "text": [
      "['Anna', 'Edgar']\n",
      "['Anna', 'Edgar', 'Eliza', 'Ani', 'Vardan']\n"
     ]
    }
   ],
   "source": [
    "list1 = ['Anna', 'Edgar']\n",
    "def dec_1(func):\n",
    "    def wrapper(*args, **kwargs):\n",
    "        print(list1)\n",
    "        func(*args, **kwargs)\n",
    "        print(list1)\n",
    "    return wrapper\n",
    "\n",
    "@dec_1\n",
    "def add_values(list):\n",
    "    list1.extend(list)\n",
    "    return list1\n",
    "\n",
    "list2=[\"Eliza\", \"Ani\", \"Vardan\"]\n",
    "add_values(list2)\n"
   ]
  },
  {
   "cell_type": "markdown",
   "metadata": {},
   "source": [
    "## Problem 9"
   ]
  },
  {
   "cell_type": "code",
   "execution_count": 114,
   "metadata": {},
   "outputs": [
    {
     "name": "stdout",
     "output_type": "stream",
     "text": [
      "Hi everyone!!!Welcome to the party\n"
     ]
    }
   ],
   "source": [
    "def dec_2(func):\n",
    "    def wrapper():\n",
    "        func()\n",
    "        return (func()[0]+func()[1:].lower())\n",
    "    return wrapper\n",
    "\n",
    "def dec_3(func):\n",
    "    def wrapper():\n",
    "        func()\n",
    "        return(func()+\"!!!Welcome to the party\")\n",
    "    return wrapper\n",
    "\n",
    "@dec_3\n",
    "@dec_2\n",
    "def function_9():\n",
    "    return (\"HI EVERYONE\")\n",
    "\n",
    "print(function_9())"
   ]
  },
  {
   "cell_type": "markdown",
   "metadata": {},
   "source": [
    "## Problem 10"
   ]
  },
  {
   "cell_type": "code",
   "execution_count": 113,
   "metadata": {},
   "outputs": [
    {
     "name": "stdout",
     "output_type": "stream",
     "text": [
      "[2, 5, 6, 85]\n"
     ]
    }
   ],
   "source": [
    "def list_els(list1):\n",
    "    for i in list1:\n",
    "        yield i\n",
    "        \n",
    "print(list(list_els([2,5,6,85])))"
   ]
  },
  {
   "cell_type": "markdown",
   "metadata": {},
   "source": [
    "## Problem 11"
   ]
  },
  {
   "cell_type": "code",
   "execution_count": 112,
   "metadata": {},
   "outputs": [
    {
     "name": "stdout",
     "output_type": "stream",
     "text": [
      "[1, 2, 3, 4, 5, 6, 7, 8, 9, 10]\n"
     ]
    }
   ],
   "source": [
    "def iter_num(n):\n",
    "    for i in range(1,n+1):\n",
    "        yield i\n",
    "\n",
    "print(list(iter_num(10)))"
   ]
  },
  {
   "cell_type": "markdown",
   "metadata": {},
   "source": [
    "## Problem 12"
   ]
  },
  {
   "cell_type": "code",
   "execution_count": 111,
   "metadata": {},
   "outputs": [
    {
     "name": "stdout",
     "output_type": "stream",
     "text": [
      "[1, 2, 4, 8, 16, 32]\n"
     ]
    }
   ],
   "source": [
    "def power(max):\n",
    "    for i in range(max+1):\n",
    "        yield 2**i\n",
    "\n",
    "print(list(power(5)))"
   ]
  }
 ],
 "metadata": {
  "kernelspec": {
   "display_name": "Python 3",
   "language": "python",
   "name": "python3"
  },
  "language_info": {
   "codemirror_mode": {
    "name": "ipython",
    "version": 3
   },
   "file_extension": ".py",
   "mimetype": "text/x-python",
   "name": "python",
   "nbconvert_exporter": "python",
   "pygments_lexer": "ipython3",
   "version": "3.7.3"
  }
 },
 "nbformat": 4,
 "nbformat_minor": 2
}
